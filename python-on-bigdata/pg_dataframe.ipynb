{
 "cells": [
  {
   "cell_type": "code",
   "execution_count": 1,
   "metadata": {},
   "outputs": [],
   "source": [
    "from pyspark import SparkContext\n",
    "from pyspark.sql import SparkSession\n",
    "from pyspark.sql.types import *\n",
    "from pyspark.sql import Row\n",
    "from pyspark.sql import Column"
   ]
  },
  {
   "cell_type": "code",
   "execution_count": 2,
   "metadata": {},
   "outputs": [],
   "source": [
    "sc=SparkContext(appName=\"pg_dataframe\") \n",
    "spark=SparkSession.builder.appName('pg_dataframe').master(\"Yct201811021847\").getOrCreate()"
   ]
  },
  {
   "cell_type": "code",
   "execution_count": 3,
   "metadata": {},
   "outputs": [],
   "source": [
    "def create_df_from_postgres():\n",
    "    df=spark.read.format('jdbc').options(\n",
    "        url='jdbc:postgresql://localhost:5432/northwind',\n",
    "        dbtable='public.orders',\n",
    "        user='postgres',\n",
    "        password='iamroot'\n",
    "    ).load()\n",
    "    return df"
   ]
  },
  {
   "cell_type": "code",
   "execution_count": 4,
   "metadata": {},
   "outputs": [],
   "source": [
    "data=create_df_from_postgres()"
   ]
  },
  {
   "cell_type": "code",
   "execution_count": 6,
   "metadata": {},
   "outputs": [
    {
     "name": "stdout",
     "output_type": "stream",
     "text": [
      "+-------+----------+----------+----------+------------+-----------+-------+-------+--------------------+------------------+--------+----------+--------------+-----------+\n",
      "|orderid|customerid|employeeid| orderdate|requireddate|shippeddate|shipvia|freight|            shipname|       shipaddress|shipcity|shipregion|shippostalcode|shipcountry|\n",
      "+-------+----------+----------+----------+------------+-----------+-------+-------+--------------------+------------------+--------+----------+--------------+-----------+\n",
      "|  10248|     VINET|         5|1996-07-04|  1996-08-01| 1996-07-16|      3|  32.38|Vins et alcools C...|59 rue de l'Abbaye|   Reims|      null|         51100|     France|\n",
      "|  10249|     TOMSP|         6|1996-07-05|  1996-08-16| 1996-07-10|      1|  11.61|  Toms Spezialitäten|     Luisenstr. 48| Münster|      null|         44087|    Germany|\n",
      "+-------+----------+----------+----------+------------+-----------+-------+-------+--------------------+------------------+--------+----------+--------------+-----------+\n",
      "only showing top 2 rows\n",
      "\n"
     ]
    }
   ],
   "source": [
    "data.show(2)"
   ]
  },
  {
   "cell_type": "code",
   "execution_count": 7,
   "metadata": {},
   "outputs": [
    {
     "data": {
      "text/plain": [
       "pyspark.sql.session.SparkSession"
      ]
     },
     "execution_count": 7,
     "metadata": {},
     "output_type": "execute_result"
    }
   ],
   "source": [
    "type(spark)"
   ]
  },
  {
   "cell_type": "code",
   "execution_count": 8,
   "metadata": {},
   "outputs": [
    {
     "name": "stdout",
     "output_type": "stream",
     "text": [
      "root\n",
      " |-- orderid: short (nullable = true)\n",
      " |-- customerid: string (nullable = true)\n",
      " |-- employeeid: short (nullable = true)\n",
      " |-- orderdate: date (nullable = true)\n",
      " |-- requireddate: date (nullable = true)\n",
      " |-- shippeddate: date (nullable = true)\n",
      " |-- shipvia: short (nullable = true)\n",
      " |-- freight: float (nullable = true)\n",
      " |-- shipname: string (nullable = true)\n",
      " |-- shipaddress: string (nullable = true)\n",
      " |-- shipcity: string (nullable = true)\n",
      " |-- shipregion: string (nullable = true)\n",
      " |-- shippostalcode: string (nullable = true)\n",
      " |-- shipcountry: string (nullable = true)\n",
      "\n"
     ]
    }
   ],
   "source": [
    "data.printSchema()"
   ]
  },
  {
   "cell_type": "code",
   "execution_count": 10,
   "metadata": {},
   "outputs": [
    {
     "data": {
      "text/plain": [
       "pyspark.sql.dataframe.DataFrame"
      ]
     },
     "execution_count": 10,
     "metadata": {},
     "output_type": "execute_result"
    }
   ],
   "source": [
    "type(data)"
   ]
  },
  {
   "cell_type": "code",
   "execution_count": 11,
   "metadata": {},
   "outputs": [
    {
     "name": "stdout",
     "output_type": "stream",
     "text": [
      "+-------+-----------------+----------+------------------+------------------+------------------+--------------------+--------------------+--------+----------+------------------+-----------+\n",
      "|summary|          orderid|customerid|        employeeid|           shipvia|           freight|            shipname|         shipaddress|shipcity|shipregion|    shippostalcode|shipcountry|\n",
      "+-------+-----------------+----------+------------------+------------------+------------------+--------------------+--------------------+--------+----------+------------------+-----------+\n",
      "|  count|              830|       830|               830|               830|               830|                 830|                 830|     830|       323|               811|        830|\n",
      "|   mean|          10662.5|      null| 4.403614457831325|2.0072289156626506|   78.244204877492|                null|                null|    null|      null|39975.067357512955|       null|\n",
      "| stddev|239.7446558319914|      null|2.4996475400823885|0.7796852435554511|116.77929406259489|                null|                null|    null|      null| 36316.43627991753|       null|\n",
      "|    min|            10248|     ALFKI|                 1|                 1|              0.02|Alfred's Futterkiste|1 rue Alsace-Lorr...|  Aachen|        AK|            01-012|  Argentina|\n",
      "|    25%|            10455|      null|                 2|                 1|             13.37|                null|                null|    null|      null|            5022.0|       null|\n",
      "|    50%|            10662|      null|                 4|                 2|             41.34|                null|                null|    null|      null|           28023.0|       null|\n",
      "|    75%|            10870|      null|                 7|                 3|             91.48|                null|                null|    null|      null|           80805.0|       null|\n",
      "|    max|            11077|     WOLZA|                 9|                 3|           1007.64|       Wolski Zajazd|        Åkergatan 24|   Århus|        WY|           WX3 6FW|  Venezuela|\n",
      "+-------+-----------------+----------+------------------+------------------+------------------+--------------------+--------------------+--------+----------+------------------+-----------+\n",
      "\n"
     ]
    }
   ],
   "source": [
    "data.summary().show()"
   ]
  },
  {
   "cell_type": "code",
   "execution_count": 26,
   "metadata": {},
   "outputs": [
    {
     "name": "stdout",
     "output_type": "stream",
     "text": [
      "+-------+------------------+\n",
      "|summary|           freight|\n",
      "+-------+------------------+\n",
      "|  count|               830|\n",
      "|   mean|   78.244204877492|\n",
      "| stddev|116.77929406259489|\n",
      "|    min|              0.02|\n",
      "|    max|           1007.64|\n",
      "+-------+------------------+\n",
      "\n"
     ]
    }
   ],
   "source": [
    "data.describe(['freight']).show()"
   ]
  },
  {
   "cell_type": "code",
   "execution_count": 27,
   "metadata": {},
   "outputs": [],
   "source": [
    "cust_country=data.cube(['customerid','freight','shipcountry'])"
   ]
  },
  {
   "cell_type": "code",
   "execution_count": 28,
   "metadata": {},
   "outputs": [
    {
     "data": {
      "text/plain": [
       "pyspark.sql.group.GroupedData"
      ]
     },
     "execution_count": 28,
     "metadata": {},
     "output_type": "execute_result"
    }
   ],
   "source": [
    "type(cust_country)"
   ]
  },
  {
   "cell_type": "code",
   "execution_count": 29,
   "metadata": {},
   "outputs": [
    {
     "name": "stdout",
     "output_type": "stream",
     "text": [
      "+----------+-------+-----------+-----+\n",
      "|customerid|freight|shipcountry|count|\n",
      "+----------+-------+-----------+-----+\n",
      "|     HANAR|  65.83|     Brazil|    1|\n",
      "|     QUICK| 229.24|    Germany|    1|\n",
      "|     HUNGC|    0.2|        USA|    1|\n",
      "|     VICTE|   4.81|     France|    1|\n",
      "|     BLONP|  59.14|     France|    1|\n",
      "|     OLDWO| 170.97|        USA|    1|\n",
      "|      null| 147.26|       null|    1|\n",
      "|     GODOS| 107.83|       null|    1|\n",
      "|     LONEP|   0.56|       null|    1|\n",
      "|      null|  47.42|       null|    1|\n",
      "|     SAVEA|  89.16|       null|    1|\n",
      "|      null| 370.61|       null|    1|\n",
      "|      null| 148.61|  Venezuela|    1|\n",
      "|     BSBEV|   4.87|       null|    1|\n",
      "|      null| 105.81|       null|    1|\n",
      "|     QUEDE|   9.53|       null|    1|\n",
      "|     VICTE|  22.11|       null|    1|\n",
      "|      null|   2.71|       null|    1|\n",
      "|      null|  52.51|       null|    1|\n",
      "|     BERGS|  32.37|       null|    1|\n",
      "+----------+-------+-----------+-----+\n",
      "only showing top 20 rows\n",
      "\n"
     ]
    }
   ],
   "source": [
    "cust_country.count().show()"
   ]
  },
  {
   "cell_type": "code",
   "execution_count": 30,
   "metadata": {},
   "outputs": [
    {
     "name": "stdout",
     "output_type": "stream",
     "text": [
      "+----------+-------+-----------+------------+---------------+------------+-------------------+\n",
      "|customerid|freight|shipcountry|avg(orderid)|avg(employeeid)|avg(shipvia)|       avg(freight)|\n",
      "+----------+-------+-----------+------------+---------------+------------+-------------------+\n",
      "|     HANAR|  65.83|     Brazil|     10250.0|            4.0|         2.0|  65.83000183105469|\n",
      "|     QUICK| 229.24|    Germany|     10286.0|            8.0|         3.0| 229.24000549316406|\n",
      "|     HUNGC|    0.2|        USA|     10415.0|            3.0|         1.0|0.20000000298023224|\n",
      "|     VICTE|   4.81|     France|     10478.0|            2.0|         3.0|  4.809999942779541|\n",
      "|     BLONP|  59.14|     France|     10584.0|            4.0|         1.0|  59.13999938964844|\n",
      "|     OLDWO| 170.97|        USA|     10855.0|            3.0|         1.0| 170.97000122070312|\n",
      "|      null| 147.26|       null|     10294.0|            4.0|         2.0| 147.25999450683594|\n",
      "|     GODOS| 107.83|       null|     10303.0|            7.0|         2.0| 107.83000183105469|\n",
      "|     LONEP|   0.56|       null|     10307.0|            2.0|         2.0| 0.5600000023841858|\n",
      "|      null|  47.42|       null|     10389.0|            4.0|         2.0|  47.41999816894531|\n",
      "|     SAVEA|  89.16|       null|     10398.0|            2.0|         3.0|  89.16000366210938|\n",
      "|      null| 370.61|       null|     10424.0|            7.0|         2.0|  370.6099853515625|\n",
      "|      null| 148.61|  Venezuela|     10461.0|            1.0|         3.0| 148.61000061035156|\n",
      "|     BSBEV|   4.87|       null|     10538.0|            9.0|         3.0|  4.869999885559082|\n",
      "|      null| 105.81|       null|     10659.0|            7.0|         2.0| 105.80999755859375|\n",
      "|     QUEDE|   9.53|       null|     10720.0|            8.0|         2.0|  9.529999732971191|\n",
      "|     VICTE|  22.11|       null|     10806.0|            3.0|         2.0| 22.110000610351562|\n",
      "|      null|   2.71|       null|     10840.0|            4.0|         2.0| 2.7100000381469727|\n",
      "|      null|  52.51|       null|     10858.0|            2.0|         1.0|   52.5099983215332|\n",
      "|     BERGS|  32.37|       null|     10875.0|            4.0|         2.0| 32.369998931884766|\n",
      "+----------+-------+-----------+------------+---------------+------------+-------------------+\n",
      "only showing top 20 rows\n",
      "\n"
     ]
    }
   ],
   "source": [
    "cust_country.avg().show()"
   ]
  },
  {
   "cell_type": "code",
   "execution_count": null,
   "metadata": {},
   "outputs": [],
   "source": []
  }
 ],
 "metadata": {
  "kernelspec": {
   "display_name": "Python 2",
   "language": "python",
   "name": "python2"
  },
  "language_info": {
   "codemirror_mode": {
    "name": "ipython",
    "version": 2
   },
   "file_extension": ".py",
   "mimetype": "text/x-python",
   "name": "python",
   "nbconvert_exporter": "python",
   "pygments_lexer": "ipython2",
   "version": "2.7.16"
  }
 },
 "nbformat": 4,
 "nbformat_minor": 2
}
